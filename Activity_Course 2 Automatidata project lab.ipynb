{
 "cells": [
  {
   "cell_type": "markdown",
   "metadata": {
    "id": "DtNBZFHO3M7n"
   },
   "source": [
    "# **Automatidata project**\n",
    "**Course 2 - Get Started with Python**"
   ]
  },
  {
   "cell_type": "markdown",
   "metadata": {
    "id": "zJCatj3xzrQZ"
   },
   "source": [
    "Welcome to the Automatidata Project!\n",
    "\n",
    "You have just started as a data professional in a fictional data consulting firm, Automatidata. Their client, the New York City Taxi and Limousine Commission (New York City TLC), has hired the Automatidata team for its reputation in helping their clients develop data-based solutions.\n",
    "\n",
    "The team is still in the early stages of the project. Previously, you were asked to complete a project proposal by your supervisor, DeShawn Washington. You have received notice that your project proposal has been approved and that New York City TLC has given the Automatidata team access to their data. To get clear insights, New York TLC's data must be analyzed, key variables identified, and the dataset ensured it is ready for analysis.\n",
    "\n",
    "A notebook was structured and prepared to help you in this project. Please complete the following questions."
   ]
  },
  {
   "cell_type": "markdown",
   "metadata": {
    "id": "rgSbVJvomcVa"
   },
   "source": [
    "# Course 2 End-of-course project: Inspect and analyze data\n",
    "\n",
    "In this activity, you will examine data provided and prepare it for analysis.  This activity will help ensure the information is,\n",
    "\n",
    "1.   Ready to answer questions and yield insights\n",
    "\n",
    "2.   Ready for visualizations\n",
    "\n",
    "3.   Ready for future hypothesis testing and statistical methods\n",
    "<br/>    \n",
    "\n",
    "**The purpose** of this project is to investigate and understand the data provided.\n",
    "  \n",
    "**The goal** is to use a dataframe contructed within Python, perform a cursory inspection of the provided dataset, and inform team members of your findings. \n",
    "<br/>  \n",
    "*This activity has three parts:*\n",
    "\n",
    "**Part 1:** Understand the situation \n",
    "* Prepare to understand and organize the provided taxi cab dataset and information.\n",
    "\n",
    "**Part 2:** Understand the data\n",
    "\n",
    "* Create a pandas dataframe for data learning, future exploratory data analysis (EDA), and statistical activities.\n",
    "\n",
    "* Compile summary information about the data to inform next steps.\n",
    "\n",
    "**Part 3:** Understand the variables\n",
    "\n",
    "* Use insights from your examination of the summary data to guide deeper investigation into specific variables.\n",
    "\n",
    "\n",
    "<br/> \n",
    "Follow the instructions and answer the following questions to complete the activity. Then, you will complete an Executive Summary using the questions listed on the PACE Strategy Document.\n",
    "\n",
    "Be sure to complete this activity before moving on. The next course item will provide you with a completed exemplar to compare to your own work. \n",
    "\n"
   ]
  },
  {
   "cell_type": "markdown",
   "metadata": {
    "id": "HjFGokxv2pc5"
   },
   "source": [
    "# **Identify data types and relevant variables using Python**\n"
   ]
  },
  {
   "cell_type": "markdown",
   "metadata": {
    "id": "MRUYfzCb4vop"
   },
   "source": [
    "<img src=\"images/Pace.png\" width=\"100\" height=\"100\" align=left>\n",
    "\n",
    "# **PACE stages**\n"
   ]
  },
  {
   "cell_type": "markdown",
   "metadata": {},
   "source": [
    "Throughout these project notebooks, you'll see references to the problem-solving framework PACE. The following notebook components are labeled with the respective PACE stage: Plan, Analyze, Construct, and Execute."
   ]
  },
  {
   "cell_type": "markdown",
   "metadata": {
    "id": "zRHb2QQWj99m"
   },
   "source": [
    "<img src=\"images/Plan.png\" width=\"100\" height=\"100\" align=left>\n",
    "\n",
    "\n",
    "## PACE: **Plan**\n",
    "\n",
    "Consider the questions in your PACE Strategy Document and those below to craft your response:"
   ]
  },
  {
   "cell_type": "markdown",
   "metadata": {
    "id": "pWEfG5zJV5oG"
   },
   "source": [
    "### **Task 1. Understand the situation**\n",
    "\n",
    "*   How can you best prepare to understand and organize the provided taxi cab information? "
   ]
  },
  {
   "cell_type": "markdown",
   "metadata": {},
   "source": [
    "In the plan we define the scope of our project and identify our organization’s informational needs."
   ]
  },
  {
   "cell_type": "markdown",
   "metadata": {
    "id": "1E9Y5aC0IAA-"
   },
   "source": [
    "<img src=\"images/Analyze.png\" width=\"100\" height=\"100\" align=left>\n",
    "\n",
    "## PACE: **Analyze**\n",
    "\n",
    "Consider the questions in your PACE Strategy Document to reflect on the Analyze stage."
   ]
  },
  {
   "cell_type": "markdown",
   "metadata": {
    "id": "L6KgK-M8o3we"
   },
   "source": [
    "### **Task 2a. Build dataframe**\n",
    "\n",
    "\n",
    "\n",
    "\n",
    "\n",
    "\n",
    "\n",
    "\n",
    "\n",
    "\n",
    "\n",
    "\n",
    "\n",
    "\n"
   ]
  },
  {
   "cell_type": "markdown",
   "metadata": {
    "id": "D4WK_AxP_S__"
   },
   "source": [
    "Create a pandas dataframe for data learning, and future exploratory data analysis (EDA) and statistical activities.\n",
    "\n",
    "**Code the following,**\n",
    "\n",
    "*   import pandas as pd. pandas is used for buidling dataframes.\n",
    "\n",
    "*   import numpy as np. numpy is imported with pandas\n",
    "\n",
    "*   df = pd.read_csv('Datasets\\NYC taxi data.csv')\n",
    "\n",
    "**Note:** pair the data object name \"df\" with pandas functions to manipulate data, such as df.groupby().\n",
    "\n",
    "**Note:** As shown in this cell, the dataset has been automatically loaded in for you. You do not need to download the .csv file, or provide more code, in order to access the dataset and proceed with this lab. Please continue with this activity by completing the following instructions."
   ]
  },
  {
   "cell_type": "code",
   "execution_count": 11,
   "metadata": {
    "id": "OZSXM4q5zrQh"
   },
   "outputs": [
    {
     "name": "stdout",
     "output_type": "stream",
     "text": [
      "done\n"
     ]
    }
   ],
   "source": [
    "#Import libraries and packages listed above\n",
    "import numpy as np\n",
    "import pandas as pd\n",
    "\n",
    "# Load dataset into dataframe\n",
    "df = pd.read_csv('2017_Yellow_Taxi_Trip_Data.csv')\n",
    "print(\"done\")"
   ]
  },
  {
   "cell_type": "markdown",
   "metadata": {
    "id": "gYx1emvno7U_"
   },
   "source": [
    "### **Task 2b. Understand the data - Inspect the data**\n",
    "\n",
    "View and inspect summary information about the dataframe by coding the following:\n",
    "\n",
    "1. df.head(10)\n",
    "2. df.info()\n",
    "3. df.describe()\n",
    "\n",
    "Consider the following two questions:\n",
    "\n",
    "**Question 1:** When reviewing the df.info() output, what do you notice about the different variables? Are there any null values? Are all of the variables numeric? Does anything else stand out?\n",
    "\n",
    "**Question 2:** When reviewing the df.describe() output, what do you notice about the distributions of each variable? Are there any questionable values?"
   ]
  },
  {
   "cell_type": "markdown",
   "metadata": {},
   "source": [
    "When reviewing the df.info() output, I notice that there are different variables present in the dataframe. The output provides information about the number of non-null entries for each variable, which allows us to identify if there are any missing values. Additionally, the data types of the variables are listed, indicating whether they are numeric or not. This helps us understand the nature of the data and how it should be treated during analysis. If there are any null values, we may need to consider strategies for handling them, such as imputation or removal. Furthermore, observing the data types helps determine if any variables need to be converted for compatibility with certain analysis techniques.\n",
    "When reviewing the df.describe() output, I notice various statistics that describe the distributions of numeric variables in the dataframe. These statistics include the mean, standard deviation, minimum, maximum, and quartiles. By analyzing these statistics, we can identify potential outliers or unusual values that might impact the integrity of our analysis. Unusually high or low values in certain variables could indicate data entry errors or anomalies. Additionally, observing the range and variability of each variable provides insights into the spread and central tendency of the data, which is crucial for identifying patterns and trends during exploratory data analysis."
   ]
  },
  {
   "cell_type": "code",
   "execution_count": 12,
   "metadata": {
    "id": "t7Nck2hh4R6J"
   },
   "outputs": [
    {
     "data": {
      "text/html": [
       "<div>\n",
       "<style scoped>\n",
       "    .dataframe tbody tr th:only-of-type {\n",
       "        vertical-align: middle;\n",
       "    }\n",
       "\n",
       "    .dataframe tbody tr th {\n",
       "        vertical-align: top;\n",
       "    }\n",
       "\n",
       "    .dataframe thead th {\n",
       "        text-align: right;\n",
       "    }\n",
       "</style>\n",
       "<table border=\"1\" class=\"dataframe\">\n",
       "  <thead>\n",
       "    <tr style=\"text-align: right;\">\n",
       "      <th></th>\n",
       "      <th>Unnamed: 0</th>\n",
       "      <th>VendorID</th>\n",
       "      <th>tpep_pickup_datetime</th>\n",
       "      <th>tpep_dropoff_datetime</th>\n",
       "      <th>passenger_count</th>\n",
       "      <th>trip_distance</th>\n",
       "      <th>RatecodeID</th>\n",
       "      <th>store_and_fwd_flag</th>\n",
       "      <th>PULocationID</th>\n",
       "      <th>DOLocationID</th>\n",
       "      <th>payment_type</th>\n",
       "      <th>fare_amount</th>\n",
       "      <th>extra</th>\n",
       "      <th>mta_tax</th>\n",
       "      <th>tip_amount</th>\n",
       "      <th>tolls_amount</th>\n",
       "      <th>improvement_surcharge</th>\n",
       "      <th>total_amount</th>\n",
       "    </tr>\n",
       "  </thead>\n",
       "  <tbody>\n",
       "    <tr>\n",
       "      <th>0</th>\n",
       "      <td>24870114</td>\n",
       "      <td>2</td>\n",
       "      <td>03/25/2017 8:55:43 AM</td>\n",
       "      <td>03/25/2017 9:09:47 AM</td>\n",
       "      <td>6</td>\n",
       "      <td>3.34</td>\n",
       "      <td>1</td>\n",
       "      <td>N</td>\n",
       "      <td>100</td>\n",
       "      <td>231</td>\n",
       "      <td>1</td>\n",
       "      <td>13.0</td>\n",
       "      <td>0.0</td>\n",
       "      <td>0.5</td>\n",
       "      <td>2.76</td>\n",
       "      <td>0.0</td>\n",
       "      <td>0.3</td>\n",
       "      <td>16.56</td>\n",
       "    </tr>\n",
       "    <tr>\n",
       "      <th>1</th>\n",
       "      <td>35634249</td>\n",
       "      <td>1</td>\n",
       "      <td>04/11/2017 2:53:28 PM</td>\n",
       "      <td>04/11/2017 3:19:58 PM</td>\n",
       "      <td>1</td>\n",
       "      <td>1.80</td>\n",
       "      <td>1</td>\n",
       "      <td>N</td>\n",
       "      <td>186</td>\n",
       "      <td>43</td>\n",
       "      <td>1</td>\n",
       "      <td>16.0</td>\n",
       "      <td>0.0</td>\n",
       "      <td>0.5</td>\n",
       "      <td>4.00</td>\n",
       "      <td>0.0</td>\n",
       "      <td>0.3</td>\n",
       "      <td>20.80</td>\n",
       "    </tr>\n",
       "    <tr>\n",
       "      <th>2</th>\n",
       "      <td>106203690</td>\n",
       "      <td>1</td>\n",
       "      <td>12/15/2017 7:26:56 AM</td>\n",
       "      <td>12/15/2017 7:34:08 AM</td>\n",
       "      <td>1</td>\n",
       "      <td>1.00</td>\n",
       "      <td>1</td>\n",
       "      <td>N</td>\n",
       "      <td>262</td>\n",
       "      <td>236</td>\n",
       "      <td>1</td>\n",
       "      <td>6.5</td>\n",
       "      <td>0.0</td>\n",
       "      <td>0.5</td>\n",
       "      <td>1.45</td>\n",
       "      <td>0.0</td>\n",
       "      <td>0.3</td>\n",
       "      <td>8.75</td>\n",
       "    </tr>\n",
       "    <tr>\n",
       "      <th>3</th>\n",
       "      <td>38942136</td>\n",
       "      <td>2</td>\n",
       "      <td>05/07/2017 1:17:59 PM</td>\n",
       "      <td>05/07/2017 1:48:14 PM</td>\n",
       "      <td>1</td>\n",
       "      <td>3.70</td>\n",
       "      <td>1</td>\n",
       "      <td>N</td>\n",
       "      <td>188</td>\n",
       "      <td>97</td>\n",
       "      <td>1</td>\n",
       "      <td>20.5</td>\n",
       "      <td>0.0</td>\n",
       "      <td>0.5</td>\n",
       "      <td>6.39</td>\n",
       "      <td>0.0</td>\n",
       "      <td>0.3</td>\n",
       "      <td>27.69</td>\n",
       "    </tr>\n",
       "    <tr>\n",
       "      <th>4</th>\n",
       "      <td>30841670</td>\n",
       "      <td>2</td>\n",
       "      <td>04/15/2017 11:32:20 PM</td>\n",
       "      <td>04/15/2017 11:49:03 PM</td>\n",
       "      <td>1</td>\n",
       "      <td>4.37</td>\n",
       "      <td>1</td>\n",
       "      <td>N</td>\n",
       "      <td>4</td>\n",
       "      <td>112</td>\n",
       "      <td>2</td>\n",
       "      <td>16.5</td>\n",
       "      <td>0.5</td>\n",
       "      <td>0.5</td>\n",
       "      <td>0.00</td>\n",
       "      <td>0.0</td>\n",
       "      <td>0.3</td>\n",
       "      <td>17.80</td>\n",
       "    </tr>\n",
       "    <tr>\n",
       "      <th>5</th>\n",
       "      <td>23345809</td>\n",
       "      <td>2</td>\n",
       "      <td>03/25/2017 8:34:11 PM</td>\n",
       "      <td>03/25/2017 8:42:11 PM</td>\n",
       "      <td>6</td>\n",
       "      <td>2.30</td>\n",
       "      <td>1</td>\n",
       "      <td>N</td>\n",
       "      <td>161</td>\n",
       "      <td>236</td>\n",
       "      <td>1</td>\n",
       "      <td>9.0</td>\n",
       "      <td>0.5</td>\n",
       "      <td>0.5</td>\n",
       "      <td>2.06</td>\n",
       "      <td>0.0</td>\n",
       "      <td>0.3</td>\n",
       "      <td>12.36</td>\n",
       "    </tr>\n",
       "    <tr>\n",
       "      <th>6</th>\n",
       "      <td>37660487</td>\n",
       "      <td>2</td>\n",
       "      <td>05/03/2017 7:04:09 PM</td>\n",
       "      <td>05/03/2017 8:03:47 PM</td>\n",
       "      <td>1</td>\n",
       "      <td>12.83</td>\n",
       "      <td>1</td>\n",
       "      <td>N</td>\n",
       "      <td>79</td>\n",
       "      <td>241</td>\n",
       "      <td>1</td>\n",
       "      <td>47.5</td>\n",
       "      <td>1.0</td>\n",
       "      <td>0.5</td>\n",
       "      <td>9.86</td>\n",
       "      <td>0.0</td>\n",
       "      <td>0.3</td>\n",
       "      <td>59.16</td>\n",
       "    </tr>\n",
       "    <tr>\n",
       "      <th>7</th>\n",
       "      <td>69059411</td>\n",
       "      <td>2</td>\n",
       "      <td>08/15/2017 5:41:06 PM</td>\n",
       "      <td>08/15/2017 6:03:05 PM</td>\n",
       "      <td>1</td>\n",
       "      <td>2.98</td>\n",
       "      <td>1</td>\n",
       "      <td>N</td>\n",
       "      <td>237</td>\n",
       "      <td>114</td>\n",
       "      <td>1</td>\n",
       "      <td>16.0</td>\n",
       "      <td>1.0</td>\n",
       "      <td>0.5</td>\n",
       "      <td>1.78</td>\n",
       "      <td>0.0</td>\n",
       "      <td>0.3</td>\n",
       "      <td>19.58</td>\n",
       "    </tr>\n",
       "    <tr>\n",
       "      <th>8</th>\n",
       "      <td>8433159</td>\n",
       "      <td>2</td>\n",
       "      <td>02/04/2017 4:17:07 PM</td>\n",
       "      <td>02/04/2017 4:29:14 PM</td>\n",
       "      <td>1</td>\n",
       "      <td>1.20</td>\n",
       "      <td>1</td>\n",
       "      <td>N</td>\n",
       "      <td>234</td>\n",
       "      <td>249</td>\n",
       "      <td>2</td>\n",
       "      <td>9.0</td>\n",
       "      <td>0.0</td>\n",
       "      <td>0.5</td>\n",
       "      <td>0.00</td>\n",
       "      <td>0.0</td>\n",
       "      <td>0.3</td>\n",
       "      <td>9.80</td>\n",
       "    </tr>\n",
       "    <tr>\n",
       "      <th>9</th>\n",
       "      <td>95294817</td>\n",
       "      <td>1</td>\n",
       "      <td>11/10/2017 3:20:29 PM</td>\n",
       "      <td>11/10/2017 3:40:55 PM</td>\n",
       "      <td>1</td>\n",
       "      <td>1.60</td>\n",
       "      <td>1</td>\n",
       "      <td>N</td>\n",
       "      <td>239</td>\n",
       "      <td>237</td>\n",
       "      <td>1</td>\n",
       "      <td>13.0</td>\n",
       "      <td>0.0</td>\n",
       "      <td>0.5</td>\n",
       "      <td>2.75</td>\n",
       "      <td>0.0</td>\n",
       "      <td>0.3</td>\n",
       "      <td>16.55</td>\n",
       "    </tr>\n",
       "  </tbody>\n",
       "</table>\n",
       "</div>"
      ],
      "text/plain": [
       "   Unnamed: 0  VendorID    tpep_pickup_datetime   tpep_dropoff_datetime  \\\n",
       "0    24870114         2   03/25/2017 8:55:43 AM   03/25/2017 9:09:47 AM   \n",
       "1    35634249         1   04/11/2017 2:53:28 PM   04/11/2017 3:19:58 PM   \n",
       "2   106203690         1   12/15/2017 7:26:56 AM   12/15/2017 7:34:08 AM   \n",
       "3    38942136         2   05/07/2017 1:17:59 PM   05/07/2017 1:48:14 PM   \n",
       "4    30841670         2  04/15/2017 11:32:20 PM  04/15/2017 11:49:03 PM   \n",
       "5    23345809         2   03/25/2017 8:34:11 PM   03/25/2017 8:42:11 PM   \n",
       "6    37660487         2   05/03/2017 7:04:09 PM   05/03/2017 8:03:47 PM   \n",
       "7    69059411         2   08/15/2017 5:41:06 PM   08/15/2017 6:03:05 PM   \n",
       "8     8433159         2   02/04/2017 4:17:07 PM   02/04/2017 4:29:14 PM   \n",
       "9    95294817         1   11/10/2017 3:20:29 PM   11/10/2017 3:40:55 PM   \n",
       "\n",
       "   passenger_count  trip_distance  RatecodeID store_and_fwd_flag  \\\n",
       "0                6           3.34           1                  N   \n",
       "1                1           1.80           1                  N   \n",
       "2                1           1.00           1                  N   \n",
       "3                1           3.70           1                  N   \n",
       "4                1           4.37           1                  N   \n",
       "5                6           2.30           1                  N   \n",
       "6                1          12.83           1                  N   \n",
       "7                1           2.98           1                  N   \n",
       "8                1           1.20           1                  N   \n",
       "9                1           1.60           1                  N   \n",
       "\n",
       "   PULocationID  DOLocationID  payment_type  fare_amount  extra  mta_tax  \\\n",
       "0           100           231             1         13.0    0.0      0.5   \n",
       "1           186            43             1         16.0    0.0      0.5   \n",
       "2           262           236             1          6.5    0.0      0.5   \n",
       "3           188            97             1         20.5    0.0      0.5   \n",
       "4             4           112             2         16.5    0.5      0.5   \n",
       "5           161           236             1          9.0    0.5      0.5   \n",
       "6            79           241             1         47.5    1.0      0.5   \n",
       "7           237           114             1         16.0    1.0      0.5   \n",
       "8           234           249             2          9.0    0.0      0.5   \n",
       "9           239           237             1         13.0    0.0      0.5   \n",
       "\n",
       "   tip_amount  tolls_amount  improvement_surcharge  total_amount  \n",
       "0        2.76           0.0                    0.3         16.56  \n",
       "1        4.00           0.0                    0.3         20.80  \n",
       "2        1.45           0.0                    0.3          8.75  \n",
       "3        6.39           0.0                    0.3         27.69  \n",
       "4        0.00           0.0                    0.3         17.80  \n",
       "5        2.06           0.0                    0.3         12.36  \n",
       "6        9.86           0.0                    0.3         59.16  \n",
       "7        1.78           0.0                    0.3         19.58  \n",
       "8        0.00           0.0                    0.3          9.80  \n",
       "9        2.75           0.0                    0.3         16.55  "
      ]
     },
     "execution_count": 12,
     "metadata": {},
     "output_type": "execute_result"
    }
   ],
   "source": [
    "df.head(10)"
   ]
  },
  {
   "cell_type": "code",
   "execution_count": 13,
   "metadata": {
    "id": "3NctoTSAvGGD"
   },
   "outputs": [
    {
     "name": "stdout",
     "output_type": "stream",
     "text": [
      "<class 'pandas.core.frame.DataFrame'>\n",
      "RangeIndex: 22699 entries, 0 to 22698\n",
      "Data columns (total 18 columns):\n",
      " #   Column                 Non-Null Count  Dtype  \n",
      "---  ------                 --------------  -----  \n",
      " 0   Unnamed: 0             22699 non-null  int64  \n",
      " 1   VendorID               22699 non-null  int64  \n",
      " 2   tpep_pickup_datetime   22699 non-null  object \n",
      " 3   tpep_dropoff_datetime  22699 non-null  object \n",
      " 4   passenger_count        22699 non-null  int64  \n",
      " 5   trip_distance          22699 non-null  float64\n",
      " 6   RatecodeID             22699 non-null  int64  \n",
      " 7   store_and_fwd_flag     22699 non-null  object \n",
      " 8   PULocationID           22699 non-null  int64  \n",
      " 9   DOLocationID           22699 non-null  int64  \n",
      " 10  payment_type           22699 non-null  int64  \n",
      " 11  fare_amount            22699 non-null  float64\n",
      " 12  extra                  22699 non-null  float64\n",
      " 13  mta_tax                22699 non-null  float64\n",
      " 14  tip_amount             22699 non-null  float64\n",
      " 15  tolls_amount           22699 non-null  float64\n",
      " 16  improvement_surcharge  22699 non-null  float64\n",
      " 17  total_amount           22699 non-null  float64\n",
      "dtypes: float64(8), int64(7), object(3)\n",
      "memory usage: 3.1+ MB\n"
     ]
    }
   ],
   "source": [
    "df.info()"
   ]
  },
  {
   "cell_type": "code",
   "execution_count": 14,
   "metadata": {},
   "outputs": [
    {
     "data": {
      "text/html": [
       "<div>\n",
       "<style scoped>\n",
       "    .dataframe tbody tr th:only-of-type {\n",
       "        vertical-align: middle;\n",
       "    }\n",
       "\n",
       "    .dataframe tbody tr th {\n",
       "        vertical-align: top;\n",
       "    }\n",
       "\n",
       "    .dataframe thead th {\n",
       "        text-align: right;\n",
       "    }\n",
       "</style>\n",
       "<table border=\"1\" class=\"dataframe\">\n",
       "  <thead>\n",
       "    <tr style=\"text-align: right;\">\n",
       "      <th></th>\n",
       "      <th>Unnamed: 0</th>\n",
       "      <th>VendorID</th>\n",
       "      <th>passenger_count</th>\n",
       "      <th>trip_distance</th>\n",
       "      <th>RatecodeID</th>\n",
       "      <th>PULocationID</th>\n",
       "      <th>DOLocationID</th>\n",
       "      <th>payment_type</th>\n",
       "      <th>fare_amount</th>\n",
       "      <th>extra</th>\n",
       "      <th>mta_tax</th>\n",
       "      <th>tip_amount</th>\n",
       "      <th>tolls_amount</th>\n",
       "      <th>improvement_surcharge</th>\n",
       "      <th>total_amount</th>\n",
       "    </tr>\n",
       "  </thead>\n",
       "  <tbody>\n",
       "    <tr>\n",
       "      <th>count</th>\n",
       "      <td>2.269900e+04</td>\n",
       "      <td>22699.000000</td>\n",
       "      <td>22699.000000</td>\n",
       "      <td>22699.000000</td>\n",
       "      <td>22699.000000</td>\n",
       "      <td>22699.000000</td>\n",
       "      <td>22699.000000</td>\n",
       "      <td>22699.000000</td>\n",
       "      <td>22699.000000</td>\n",
       "      <td>22699.000000</td>\n",
       "      <td>22699.000000</td>\n",
       "      <td>22699.000000</td>\n",
       "      <td>22699.000000</td>\n",
       "      <td>22699.000000</td>\n",
       "      <td>22699.000000</td>\n",
       "    </tr>\n",
       "    <tr>\n",
       "      <th>mean</th>\n",
       "      <td>5.675849e+07</td>\n",
       "      <td>1.556236</td>\n",
       "      <td>1.642319</td>\n",
       "      <td>2.913313</td>\n",
       "      <td>1.043394</td>\n",
       "      <td>162.412353</td>\n",
       "      <td>161.527997</td>\n",
       "      <td>1.336887</td>\n",
       "      <td>13.026629</td>\n",
       "      <td>0.333275</td>\n",
       "      <td>0.497445</td>\n",
       "      <td>1.835781</td>\n",
       "      <td>0.312542</td>\n",
       "      <td>0.299551</td>\n",
       "      <td>16.310502</td>\n",
       "    </tr>\n",
       "    <tr>\n",
       "      <th>std</th>\n",
       "      <td>3.274493e+07</td>\n",
       "      <td>0.496838</td>\n",
       "      <td>1.285231</td>\n",
       "      <td>3.653171</td>\n",
       "      <td>0.708391</td>\n",
       "      <td>66.633373</td>\n",
       "      <td>70.139691</td>\n",
       "      <td>0.496211</td>\n",
       "      <td>13.243791</td>\n",
       "      <td>0.463097</td>\n",
       "      <td>0.039465</td>\n",
       "      <td>2.800626</td>\n",
       "      <td>1.399212</td>\n",
       "      <td>0.015673</td>\n",
       "      <td>16.097295</td>\n",
       "    </tr>\n",
       "    <tr>\n",
       "      <th>min</th>\n",
       "      <td>1.212700e+04</td>\n",
       "      <td>1.000000</td>\n",
       "      <td>0.000000</td>\n",
       "      <td>0.000000</td>\n",
       "      <td>1.000000</td>\n",
       "      <td>1.000000</td>\n",
       "      <td>1.000000</td>\n",
       "      <td>1.000000</td>\n",
       "      <td>-120.000000</td>\n",
       "      <td>-1.000000</td>\n",
       "      <td>-0.500000</td>\n",
       "      <td>0.000000</td>\n",
       "      <td>0.000000</td>\n",
       "      <td>-0.300000</td>\n",
       "      <td>-120.300000</td>\n",
       "    </tr>\n",
       "    <tr>\n",
       "      <th>25%</th>\n",
       "      <td>2.852056e+07</td>\n",
       "      <td>1.000000</td>\n",
       "      <td>1.000000</td>\n",
       "      <td>0.990000</td>\n",
       "      <td>1.000000</td>\n",
       "      <td>114.000000</td>\n",
       "      <td>112.000000</td>\n",
       "      <td>1.000000</td>\n",
       "      <td>6.500000</td>\n",
       "      <td>0.000000</td>\n",
       "      <td>0.500000</td>\n",
       "      <td>0.000000</td>\n",
       "      <td>0.000000</td>\n",
       "      <td>0.300000</td>\n",
       "      <td>8.750000</td>\n",
       "    </tr>\n",
       "    <tr>\n",
       "      <th>50%</th>\n",
       "      <td>5.673150e+07</td>\n",
       "      <td>2.000000</td>\n",
       "      <td>1.000000</td>\n",
       "      <td>1.610000</td>\n",
       "      <td>1.000000</td>\n",
       "      <td>162.000000</td>\n",
       "      <td>162.000000</td>\n",
       "      <td>1.000000</td>\n",
       "      <td>9.500000</td>\n",
       "      <td>0.000000</td>\n",
       "      <td>0.500000</td>\n",
       "      <td>1.350000</td>\n",
       "      <td>0.000000</td>\n",
       "      <td>0.300000</td>\n",
       "      <td>11.800000</td>\n",
       "    </tr>\n",
       "    <tr>\n",
       "      <th>75%</th>\n",
       "      <td>8.537452e+07</td>\n",
       "      <td>2.000000</td>\n",
       "      <td>2.000000</td>\n",
       "      <td>3.060000</td>\n",
       "      <td>1.000000</td>\n",
       "      <td>233.000000</td>\n",
       "      <td>233.000000</td>\n",
       "      <td>2.000000</td>\n",
       "      <td>14.500000</td>\n",
       "      <td>0.500000</td>\n",
       "      <td>0.500000</td>\n",
       "      <td>2.450000</td>\n",
       "      <td>0.000000</td>\n",
       "      <td>0.300000</td>\n",
       "      <td>17.800000</td>\n",
       "    </tr>\n",
       "    <tr>\n",
       "      <th>max</th>\n",
       "      <td>1.134863e+08</td>\n",
       "      <td>2.000000</td>\n",
       "      <td>6.000000</td>\n",
       "      <td>33.960000</td>\n",
       "      <td>99.000000</td>\n",
       "      <td>265.000000</td>\n",
       "      <td>265.000000</td>\n",
       "      <td>4.000000</td>\n",
       "      <td>999.990000</td>\n",
       "      <td>4.500000</td>\n",
       "      <td>0.500000</td>\n",
       "      <td>200.000000</td>\n",
       "      <td>19.100000</td>\n",
       "      <td>0.300000</td>\n",
       "      <td>1200.290000</td>\n",
       "    </tr>\n",
       "  </tbody>\n",
       "</table>\n",
       "</div>"
      ],
      "text/plain": [
       "         Unnamed: 0      VendorID  passenger_count  trip_distance  \\\n",
       "count  2.269900e+04  22699.000000     22699.000000   22699.000000   \n",
       "mean   5.675849e+07      1.556236         1.642319       2.913313   \n",
       "std    3.274493e+07      0.496838         1.285231       3.653171   \n",
       "min    1.212700e+04      1.000000         0.000000       0.000000   \n",
       "25%    2.852056e+07      1.000000         1.000000       0.990000   \n",
       "50%    5.673150e+07      2.000000         1.000000       1.610000   \n",
       "75%    8.537452e+07      2.000000         2.000000       3.060000   \n",
       "max    1.134863e+08      2.000000         6.000000      33.960000   \n",
       "\n",
       "         RatecodeID  PULocationID  DOLocationID  payment_type   fare_amount  \\\n",
       "count  22699.000000  22699.000000  22699.000000  22699.000000  22699.000000   \n",
       "mean       1.043394    162.412353    161.527997      1.336887     13.026629   \n",
       "std        0.708391     66.633373     70.139691      0.496211     13.243791   \n",
       "min        1.000000      1.000000      1.000000      1.000000   -120.000000   \n",
       "25%        1.000000    114.000000    112.000000      1.000000      6.500000   \n",
       "50%        1.000000    162.000000    162.000000      1.000000      9.500000   \n",
       "75%        1.000000    233.000000    233.000000      2.000000     14.500000   \n",
       "max       99.000000    265.000000    265.000000      4.000000    999.990000   \n",
       "\n",
       "              extra       mta_tax    tip_amount  tolls_amount  \\\n",
       "count  22699.000000  22699.000000  22699.000000  22699.000000   \n",
       "mean       0.333275      0.497445      1.835781      0.312542   \n",
       "std        0.463097      0.039465      2.800626      1.399212   \n",
       "min       -1.000000     -0.500000      0.000000      0.000000   \n",
       "25%        0.000000      0.500000      0.000000      0.000000   \n",
       "50%        0.000000      0.500000      1.350000      0.000000   \n",
       "75%        0.500000      0.500000      2.450000      0.000000   \n",
       "max        4.500000      0.500000    200.000000     19.100000   \n",
       "\n",
       "       improvement_surcharge  total_amount  \n",
       "count           22699.000000  22699.000000  \n",
       "mean                0.299551     16.310502  \n",
       "std                 0.015673     16.097295  \n",
       "min                -0.300000   -120.300000  \n",
       "25%                 0.300000      8.750000  \n",
       "50%                 0.300000     11.800000  \n",
       "75%                 0.300000     17.800000  \n",
       "max                 0.300000   1200.290000  "
      ]
     },
     "execution_count": 14,
     "metadata": {},
     "output_type": "execute_result"
    }
   ],
   "source": [
    "df.describe()"
   ]
  },
  {
   "cell_type": "markdown",
   "metadata": {
    "id": "BMNnIoc51_1N"
   },
   "source": [
    "### **Task 2c. Understand the data - Investigate the variables**\n",
    "\n",
    "Sort and interpret the data table for two variables:`trip_distance` and `total_amount`.\n",
    "\n",
    "**Answer the following three questions:**\n",
    "\n",
    "**Question 1:** Sort your first variable (`trip_distance`) from maximum to minimum value, do the values seem normal?\n",
    "\n",
    "**Question 2:** Sort by your second variable (`total_amount`), are any values unusual?\n",
    "\n",
    "**Question 3:** Are the resulting rows similar for both sorts? Why or why not?"
   ]
  },
  {
   "cell_type": "markdown",
   "metadata": {},
   "source": [
    "When sorting the trip_distance variable from maximum to minimum value, the values might reveal insights into the length of taxi trips. It's possible that the values could vary widely, ranging from very short distances to longer distances. This is because taxi trips can span different distances within a city, and the diversity of trip lengths is expected.\n",
    "Sorting by the total_amount variable could help us understand the fares associated with taxi trips. Unusual values might indicate outliers, such as extremely high fares that could be due to data entry errors or special circumstances. It's important to examine these values closely to determine their validity.\n",
    "The resulting rows may not be entirely similar for both sorts. While trip_distance represents the physical length of the taxi trips, total_amount is influenced by various factors, including distance, time, additional charges, and discounts. As a result, the relationship between trip_distance and total_amount may not be straightforward. Longer trips may not necessarily have proportionally higher fares due to the additional factors influencing the total fare amount. Therefore, the distribution of rows for the two sorts may exhibit differences based on these complex factors."
   ]
  },
  {
   "cell_type": "code",
   "execution_count": 15,
   "metadata": {},
   "outputs": [
    {
     "name": "stdout",
     "output_type": "stream",
     "text": [
      "       Unnamed: 0  VendorID    tpep_pickup_datetime   tpep_dropoff_datetime  \\\n",
      "9280     51810714         2  06/18/2017 11:33:25 PM  06/19/2017 12:12:38 AM   \n",
      "13861    40523668         2   05/19/2017 8:20:21 AM   05/19/2017 9:20:30 AM   \n",
      "6064     49894023         2  06/13/2017 12:30:22 PM   06/13/2017 1:37:51 PM   \n",
      "10291    76319330         2  09/11/2017 11:41:04 AM  09/11/2017 12:18:58 PM   \n",
      "29       94052446         2   11/06/2017 8:30:50 PM  11/07/2017 12:00:00 AM   \n",
      "18130    90375786         1   10/26/2017 2:45:01 PM   10/26/2017 4:12:49 PM   \n",
      "5792     68023798         2   08/11/2017 2:14:01 PM   08/11/2017 3:17:31 PM   \n",
      "15350    77309977         2   09/14/2017 1:44:44 PM   09/14/2017 2:34:29 PM   \n",
      "10302    43431843         1   05/15/2017 8:11:34 AM   05/15/2017 9:03:16 AM   \n",
      "2592     51094874         2   06/16/2017 6:51:20 PM   06/16/2017 7:41:42 PM   \n",
      "\n",
      "       passenger_count  trip_distance  RatecodeID store_and_fwd_flag  \\\n",
      "9280                 2          33.96           5                  N   \n",
      "13861                1          33.92           5                  N   \n",
      "6064                 1          32.72           3                  N   \n",
      "10291                1          31.95           4                  N   \n",
      "29                   1          30.83           1                  N   \n",
      "18130                1          30.50           1                  N   \n",
      "5792                 1          30.33           2                  N   \n",
      "15350                1          28.23           2                  N   \n",
      "10302                1          28.20           2                  N   \n",
      "2592                 1          27.97           2                  N   \n",
      "\n",
      "       PULocationID  DOLocationID  payment_type  fare_amount  extra  mta_tax  \\\n",
      "9280            132           265             2       150.00    0.0      0.0   \n",
      "13861           229           265             1       200.01    0.0      0.5   \n",
      "6064            138             1             1       107.00    0.0      0.0   \n",
      "10291           138           265             2       131.00    0.0      0.5   \n",
      "29              132            23             1        80.00    0.5      0.5   \n",
      "18130           132           220             1        90.50    0.0      0.5   \n",
      "5792            132           158             1        52.00    0.0      0.5   \n",
      "15350            13           132             1        52.00    0.0      0.5   \n",
      "10302            90           132             1        52.00    0.0      0.5   \n",
      "2592            261           132             2        52.00    4.5      0.5   \n",
      "\n",
      "       tip_amount  tolls_amount  improvement_surcharge  total_amount  \n",
      "9280         0.00          0.00                    0.3        150.30  \n",
      "13861       51.64          5.76                    0.3        258.21  \n",
      "6064        55.50         16.26                    0.3        179.06  \n",
      "10291        0.00          0.00                    0.3        131.80  \n",
      "29          18.56         11.52                    0.3        111.38  \n",
      "18130       19.85          8.16                    0.3        119.31  \n",
      "5792        14.64          5.76                    0.3         73.20  \n",
      "15350        4.40          5.76                    0.3         62.96  \n",
      "10302       11.71          5.76                    0.3         70.27  \n",
      "2592         0.00          5.76                    0.3         63.06  \n"
     ]
    }
   ],
   "source": [
    "# Sort the data by trip distance from maximum to minimum value\n",
    "sorted_by_trip_distance = df.sort_values(by='trip_distance', ascending=False)\n",
    "print(sorted_by_trip_distance.head(10))  # Display the first 10 rows of the sorted DataFrame"
   ]
  },
  {
   "cell_type": "code",
   "execution_count": 16,
   "metadata": {},
   "outputs": [
    {
     "name": "stdout",
     "output_type": "stream",
     "text": [
      "       Unnamed: 0  VendorID    tpep_pickup_datetime   tpep_dropoff_datetime  \\\n",
      "8476     11157412         1   02/06/2017 5:50:10 AM   02/06/2017 5:51:08 AM   \n",
      "20312   107558404         2   12/19/2017 9:40:46 AM   12/19/2017 9:40:55 AM   \n",
      "13861    40523668         2   05/19/2017 8:20:21 AM   05/19/2017 9:20:30 AM   \n",
      "12511   107108848         2   12/17/2017 6:24:24 PM   12/17/2017 6:24:42 PM   \n",
      "15474    55538852         2   06/06/2017 8:55:01 PM   06/06/2017 8:55:06 PM   \n",
      "6064     49894023         2  06/13/2017 12:30:22 PM   06/13/2017 1:37:51 PM   \n",
      "16379   101198443         2  11/30/2017 10:41:11 AM  11/30/2017 11:31:45 AM   \n",
      "3582    111653084         1  01/01/2017 11:53:01 PM  01/01/2017 11:53:42 PM   \n",
      "11269    51920669         1  06/19/2017 12:51:17 AM  06/19/2017 12:52:12 AM   \n",
      "9280     51810714         2  06/18/2017 11:33:25 PM  06/19/2017 12:12:38 AM   \n",
      "1928     51087145         1   06/16/2017 6:30:08 PM   06/16/2017 7:18:50 PM   \n",
      "10291    76319330         2  09/11/2017 11:41:04 AM  09/11/2017 12:18:58 PM   \n",
      "6708     91660295         2  10/30/2017 11:23:46 AM  10/30/2017 11:23:49 AM   \n",
      "11608   107690629         2   12/19/2017 5:00:56 PM   12/19/2017 6:41:56 PM   \n",
      "908      25075013         2   03/27/2017 1:01:38 PM   03/27/2017 1:38:44 PM   \n",
      "7281    111091850         2   01/01/2017 3:02:53 AM   01/01/2017 3:03:02 AM   \n",
      "18130    90375786         1   10/26/2017 2:45:01 PM   10/26/2017 4:12:49 PM   \n",
      "13621    93330154         1   11/04/2017 1:32:14 PM   11/04/2017 2:18:50 PM   \n",
      "13359     3055315         1   01/12/2017 7:19:36 AM   01/12/2017 7:19:56 AM   \n",
      "29       94052446         2   11/06/2017 8:30:50 PM  11/07/2017 12:00:00 AM   \n",
      "\n",
      "       passenger_count  trip_distance  RatecodeID store_and_fwd_flag  \\\n",
      "8476                 1           2.60           5                  N   \n",
      "20312                2           0.00           5                  N   \n",
      "13861                1          33.92           5                  N   \n",
      "12511                1           0.00           5                  N   \n",
      "15474                1           0.00           5                  N   \n",
      "6064                 1          32.72           3                  N   \n",
      "16379                1          25.50           5                  N   \n",
      "3582                 1           7.30           5                  N   \n",
      "11269                2           0.00           5                  N   \n",
      "9280                 2          33.96           5                  N   \n",
      "1928                 2          12.50           5                  N   \n",
      "10291                1          31.95           4                  N   \n",
      "6708                 1           0.32           5                  N   \n",
      "11608                2          23.00           3                  N   \n",
      "908                  2          26.12           4                  N   \n",
      "7281                 1           0.00           5                  N   \n",
      "18130                1          30.50           1                  N   \n",
      "13621                2          19.80           5                  N   \n",
      "13359                1           0.00           5                  N   \n",
      "29                   1          30.83           1                  N   \n",
      "\n",
      "       PULocationID  DOLocationID  payment_type  fare_amount  extra  mta_tax  \\\n",
      "8476            226           226             1       999.99    0.0      0.0   \n",
      "20312           265           265             2       450.00    0.0      0.0   \n",
      "13861           229           265             1       200.01    0.0      0.5   \n",
      "12511           265           265             1       175.00    0.0      0.0   \n",
      "15474           265           265             1       200.00    0.0      0.5   \n",
      "6064            138             1             1       107.00    0.0      0.0   \n",
      "16379           132           265             2       140.00    0.0      0.5   \n",
      "3582              1             1             1       152.00    0.0      0.0   \n",
      "11269           265           265             1       120.00    0.0      0.0   \n",
      "9280            132           265             2       150.00    0.0      0.0   \n",
      "1928            211           265             1       120.00    0.0      0.0   \n",
      "10291           138           265             2       131.00    0.0      0.5   \n",
      "6708            264            83             1       100.00    0.0      0.5   \n",
      "11608           151             1             1        99.50    1.0      0.0   \n",
      "908             138           265             1       100.00    0.0      0.5   \n",
      "7281            265           265             1       100.00    0.0      0.5   \n",
      "18130           132           220             1        90.50    0.0      0.5   \n",
      "13621           265           230             1       105.00    0.0      0.0   \n",
      "13359             1             1             1        75.00    0.0      0.0   \n",
      "29              132            23             1        80.00    0.5      0.5   \n",
      "\n",
      "       tip_amount  tolls_amount  improvement_surcharge  total_amount  \n",
      "8476       200.00          0.00                    0.3       1200.29  \n",
      "20312        0.00          0.00                    0.3        450.30  \n",
      "13861       51.64          5.76                    0.3        258.21  \n",
      "12511       46.69         11.75                    0.3        233.74  \n",
      "15474       11.00          0.00                    0.3        211.80  \n",
      "6064        55.50         16.26                    0.3        179.06  \n",
      "16379        0.00         16.26                    0.3        157.06  \n",
      "3582         0.00          0.00                    0.3        152.30  \n",
      "11269       20.00         11.52                    0.3        151.82  \n",
      "9280         0.00          0.00                    0.3        150.30  \n",
      "1928         5.00         12.50                    0.3        137.80  \n",
      "10291        0.00          0.00                    0.3        131.80  \n",
      "6708        25.20          0.00                    0.3        126.00  \n",
      "11608       10.00         12.50                    0.3        123.30  \n",
      "908         15.00          5.76                    0.3        121.56  \n",
      "7281        20.16          0.00                    0.3        120.96  \n",
      "18130       19.85          8.16                    0.3        119.31  \n",
      "13621        8.00          2.64                    0.3        115.94  \n",
      "13359       18.65         18.00                    0.3        111.95  \n",
      "29          18.56         11.52                    0.3        111.38  \n"
     ]
    }
   ],
   "source": [
    "# Sort the data by total amount and print the top 20 values\n",
    "sorted_by_total_amount = df.sort_values(by='total_amount', ascending=False)\n",
    "print(sorted_by_total_amount.head(20))"
   ]
  },
  {
   "cell_type": "code",
   "execution_count": 17,
   "metadata": {},
   "outputs": [
    {
     "name": "stdout",
     "output_type": "stream",
     "text": [
      "       Unnamed: 0  VendorID    tpep_pickup_datetime   tpep_dropoff_datetime  \\\n",
      "12944    29059760         2  04/08/2017 12:00:16 AM  04/08/2017 11:15:57 PM   \n",
      "20698    14668209         2  02/24/2017 12:38:17 AM  02/24/2017 12:42:05 AM   \n",
      "17602    24690146         2   03/24/2017 7:31:13 PM   03/24/2017 7:34:49 PM   \n",
      "11204    58395501         2   07/09/2017 7:20:59 AM   07/09/2017 7:23:50 AM   \n",
      "14714   109276092         2  12/24/2017 10:37:58 PM  12/24/2017 10:41:08 PM   \n",
      "8204     91187947         2   10/28/2017 8:39:36 PM   10/28/2017 8:41:59 PM   \n",
      "20317    75926915         2  09/09/2017 10:59:51 PM  09/09/2017 11:02:06 PM   \n",
      "10281    55302347         2   06/05/2017 5:34:25 PM   06/05/2017 5:36:29 PM   \n",
      "5448     28459983         2  04/06/2017 12:50:26 PM  04/06/2017 12:52:39 PM   \n",
      "4423     97329905         2   11/16/2017 8:13:30 PM   11/16/2017 8:14:50 PM   \n",
      "18565    43859760         2   05/22/2017 3:51:20 PM   05/22/2017 3:52:22 PM   \n",
      "314     105454287         2   12/13/2017 2:02:39 AM   12/13/2017 2:03:08 AM   \n",
      "5758       833948         2   01/03/2017 8:15:23 PM   01/03/2017 8:15:39 PM   \n",
      "1646     57337183         2  07/05/2017 11:02:23 AM  07/05/2017 11:03:00 AM   \n",
      "10506    26005024         2   03/30/2017 3:14:26 AM   03/30/2017 3:14:28 AM   \n",
      "4402    108016954         2   12/20/2017 4:06:53 PM   12/20/2017 4:47:50 PM   \n",
      "5722     49670364         2  06/12/2017 12:08:55 PM  06/12/2017 12:08:57 PM   \n",
      "22566    19022898         2   03/07/2017 2:24:47 AM   03/07/2017 2:24:50 AM   \n",
      "19067    58713019         1   07/10/2017 2:40:09 PM   07/10/2017 2:40:59 PM   \n",
      "14283    37675840         1   05/03/2017 7:44:28 PM   05/03/2017 7:44:38 PM   \n",
      "\n",
      "       passenger_count  trip_distance  RatecodeID store_and_fwd_flag  \\\n",
      "12944                1           0.17           5                  N   \n",
      "20698                1           0.70           1                  N   \n",
      "17602                1           0.46           1                  N   \n",
      "11204                1           0.64           1                  N   \n",
      "14714                5           0.40           1                  N   \n",
      "8204                 1           0.41           1                  N   \n",
      "20317                1           0.24           1                  N   \n",
      "10281                2           0.00           1                  N   \n",
      "5448                 1           0.25           1                  N   \n",
      "4423                 2           0.06           1                  N   \n",
      "18565                1           0.10           1                  N   \n",
      "314                  6           0.12           1                  N   \n",
      "5758                 1           0.02           1                  N   \n",
      "1646                 1           0.04           1                  N   \n",
      "10506                1           0.00           1                  N   \n",
      "4402                 1           7.06           1                  N   \n",
      "5722                 1           0.00           1                  N   \n",
      "22566                1           0.00           1                  N   \n",
      "19067                1           0.10           5                  N   \n",
      "14283                1           0.00           5                  N   \n",
      "\n",
      "       PULocationID  DOLocationID  payment_type  fare_amount  extra  mta_tax  \\\n",
      "12944           138           138             4      -120.00    0.0      0.0   \n",
      "20698            65            25             4        -4.50   -0.5     -0.5   \n",
      "17602            87            45             4        -4.00   -1.0     -0.5   \n",
      "11204            50            48             3        -4.50    0.0     -0.5   \n",
      "14714           164           161             4        -4.00   -0.5     -0.5   \n",
      "8204            236           237             3        -3.50   -0.5     -0.5   \n",
      "20317           116           116             4        -3.50   -0.5     -0.5   \n",
      "10281           238           238             4        -2.50   -1.0     -0.5   \n",
      "5448             90            68             3        -3.50    0.0     -0.5   \n",
      "4423            237           237             4        -3.00   -0.5     -0.5   \n",
      "18565           230           163             3        -3.00    0.0     -0.5   \n",
      "314             161           161             3        -2.50   -0.5     -0.5   \n",
      "5758            170           170             3        -2.50   -0.5     -0.5   \n",
      "1646             79            79             3        -2.50    0.0     -0.5   \n",
      "10506           264           193             1         0.00    0.0      0.0   \n",
      "4402            263           169             2         0.00    0.0      0.0   \n",
      "5722            264           193             1         0.00    0.0      0.0   \n",
      "22566           264           193             1         0.00    0.0      0.0   \n",
      "19067           261            13             3         0.00    0.0      0.0   \n",
      "14283           146           146             3         0.01    0.0      0.0   \n",
      "\n",
      "       tip_amount  tolls_amount  improvement_surcharge  total_amount  \n",
      "12944         0.0           0.0                   -0.3       -120.30  \n",
      "20698         0.0           0.0                   -0.3         -5.80  \n",
      "17602         0.0           0.0                   -0.3         -5.80  \n",
      "11204         0.0           0.0                   -0.3         -5.30  \n",
      "14714         0.0           0.0                   -0.3         -5.30  \n",
      "8204          0.0           0.0                   -0.3         -4.80  \n",
      "20317         0.0           0.0                   -0.3         -4.80  \n",
      "10281         0.0           0.0                   -0.3         -4.30  \n",
      "5448          0.0           0.0                   -0.3         -4.30  \n",
      "4423          0.0           0.0                   -0.3         -4.30  \n",
      "18565         0.0           0.0                   -0.3         -3.80  \n",
      "314           0.0           0.0                   -0.3         -3.80  \n",
      "5758          0.0           0.0                   -0.3         -3.80  \n",
      "1646          0.0           0.0                   -0.3         -3.30  \n",
      "10506         0.0           0.0                    0.0          0.00  \n",
      "4402          0.0           0.0                    0.0          0.00  \n",
      "5722          0.0           0.0                    0.0          0.00  \n",
      "22566         0.0           0.0                    0.0          0.00  \n",
      "19067         0.0           0.0                    0.3          0.30  \n",
      "14283         0.0           0.0                    0.3          0.31  \n"
     ]
    }
   ],
   "source": [
    "# Sort the data by total amount and print the bottom 20 values\n",
    "sorted_by_total_amount = df.sort_values(by='total_amount')\n",
    "print(sorted_by_total_amount.head(20))"
   ]
  },
  {
   "cell_type": "code",
   "execution_count": 18,
   "metadata": {
    "id": "bAQeHW-d2S1-"
   },
   "outputs": [
    {
     "name": "stdout",
     "output_type": "stream",
     "text": [
      "1    15265\n",
      "2     7267\n",
      "3      121\n",
      "4       46\n",
      "Name: payment_type, dtype: int64\n"
     ]
    }
   ],
   "source": [
    "# How many of each payment type are represented in the data?\n",
    "payment_counts = df['payment_type'].value_counts()\n",
    "print(payment_counts)"
   ]
  },
  {
   "cell_type": "code",
   "execution_count": 24,
   "metadata": {
    "id": "W77hp8q3w-zi"
   },
   "outputs": [
    {
     "name": "stdout",
     "output_type": "stream",
     "text": [
      "Average tip for trips paid with credit card: nan\n",
      "Average tip for trips paid with cash: nan\n"
     ]
    }
   ],
   "source": [
    "#==> In this dataset payment_type mode is in integer formate not in string so unable to find credit card, cash formating.\n",
    "\n",
    "# What is the average tip for trips paid for with credit card?\n",
    "# Check for non-numeric or invalid values in the 'tip_amount' column\n",
    "invalid_tip_values = df[df['payment_type'] == 'credit card']['tip_amount'].apply(lambda x: isinstance(x, (int, float)) and not np.isnan(x))\n",
    "\n",
    "# Filter the data to include only valid tip amounts for credit card payments\n",
    "valid_tips_credit_card = df[(df['payment_type'] == 'credit card') & invalid_tip_values]\n",
    "\n",
    "# Calculate the average tip for valid tip amounts\n",
    "average_tip_credit_card = valid_tips_credit_card['tip_amount'].mean()\n",
    "\n",
    "print(\"Average tip for trips paid with credit card:\", average_tip_credit_card)\n",
    "\n",
    "\n",
    "# What is the average tip for trips paid for with cash?\n",
    "average_tip_cash = df[df['payment_type'] == 'Cash']['tip_amount'].dropna().mean()\n",
    "print(\"Average tip for trips paid with cash:\", average_tip_cash)"
   ]
  },
  {
   "cell_type": "code",
   "execution_count": 25,
   "metadata": {},
   "outputs": [
    {
     "name": "stdout",
     "output_type": "stream",
     "text": [
      "2    12626\n",
      "1    10073\n",
      "Name: VendorID, dtype: int64\n"
     ]
    }
   ],
   "source": [
    "#==> ENTER YOUR CODE HERE\n",
    "\n",
    "# How many times is each vendor ID represented in the data?\n",
    "vendor_counts = df['VendorID'].value_counts()\n",
    "print(vendor_counts)"
   ]
  },
  {
   "cell_type": "code",
   "execution_count": 26,
   "metadata": {},
   "outputs": [
    {
     "name": "stdout",
     "output_type": "stream",
     "text": [
      "VendorID\n",
      "1    16.298119\n",
      "2    16.320382\n",
      "Name: total_amount, dtype: float64\n"
     ]
    }
   ],
   "source": [
    "#==> ENTER YOUR CODE HERE\n",
    "\n",
    "# What is the mean total amount for each vendor?\n",
    "mean_total_amount_per_vendor = df.groupby('VendorID')['total_amount'].mean()\n",
    "print(mean_total_amount_per_vendor)"
   ]
  },
  {
   "cell_type": "code",
   "execution_count": 27,
   "metadata": {},
   "outputs": [
    {
     "name": "stdout",
     "output_type": "stream",
     "text": [
      "Most common payment type: 1\n"
     ]
    }
   ],
   "source": [
    "payment_mode = df['payment_type'].mode()[0]\n",
    "print(\"Most common payment type:\", payment_mode)"
   ]
  },
  {
   "cell_type": "code",
   "execution_count": 28,
   "metadata": {},
   "outputs": [],
   "source": [
    "#==> ENTER YOUR CODE HERE\n",
    "\n",
    "# Filter the data for credit card payments only\n",
    "credit_card_data = df[df['payment_type'] == 'credit card']\n",
    "\n",
    "#==> ENTER YOUR CODE HERE\n",
    "\n",
    "# Filter the data for passenger count only\n",
    "passenger_count_data = df[df['passenger_count'] > 3]"
   ]
  },
  {
   "cell_type": "code",
   "execution_count": 29,
   "metadata": {},
   "outputs": [
    {
     "name": "stdout",
     "output_type": "stream",
     "text": [
      "Series([], Name: tip_amount, dtype: float64)\n"
     ]
    }
   ],
   "source": [
    "#==> ENTER YOUR CODE HERE\n",
    "\n",
    "# Calculate the average tip amount for each passenger count (credit card payments only)\n",
    "# Filter the data for credit card payments\n",
    "credit_card_data = df[df['payment_type'] == 'credit card']\n",
    "\n",
    "# Group by passenger count and calculate the mean tip amount for each group\n",
    "average_tip_per_passenger_count = credit_card_data.groupby('passenger_count')['tip_amount'].mean()\n",
    "\n",
    "print(average_tip_per_passenger_count)\n"
   ]
  },
  {
   "cell_type": "markdown",
   "metadata": {
    "id": "tF_82VLgzrQm"
   },
   "source": [
    "<img src=\"images/Construct.png\" width=\"100\" height=\"100\" align=left>\n",
    "\n",
    "## PACE: **Construct**\n",
    "\n",
    "**Note**: The Construct stage does not apply to this workflow. The PACE framework can be adapted to fit the specific requirements of any project. \n",
    "\n",
    "\n"
   ]
  },
  {
   "cell_type": "markdown",
   "metadata": {
    "id": "BMHV86A6zrQo"
   },
   "source": [
    "<img src=\"images/Execute.png\" width=\"100\" height=\"100\" align=left>\n",
    "\n",
    "## PACE: **Execute**\n",
    "\n",
    "Consider the questions in your PACE Strategy Document and those below to craft your response.\n"
   ]
  },
  {
   "cell_type": "markdown",
   "metadata": {
    "id": "u3HxcMZgz6iW"
   },
   "source": [
    "### **Given your efforts, what can you summarize for DeShawn and the data team?**\n",
    "\n",
    "*Note for Learners: Your notebook should contain data that can address Luana's requests. Which two variables are most helpful for building a predictive model for the client: NYC TLC?*"
   ]
  },
  {
   "cell_type": "markdown",
   "metadata": {},
   "source": [
    "Passenger Count: The number of passengers in a taxi ride can be a significant predictor of various factors, such as trip duration, total fare, and tip amount. Larger groups might behave differently in terms of payment behavior and preferences.\n",
    "\n",
    "Payment Type: The payment type, especially whether a trip is paid with a credit card or cash, is a strong predictor of the overall payment process, including tips. It provides valuable information about customer behavior and payment preferences.\n",
    "\n",
    "By focusing on these two variables, we can potentially build a predictive model that better understands and predicts customer payment behaviors and preferences for the NYC TLC, which can lead to more informed decision-making and improved services."
   ]
  },
  {
   "cell_type": "markdown",
   "metadata": {},
   "source": [
    "**Congratulations!** You've completed this lab. However, you may not notice a green check mark next to this item on Coursera's platform. Please continue your progress regardless of the check mark. Just click on the \"save\" icon at the top of this notebook to ensure your work has been logged."
   ]
  }
 ],
 "metadata": {
  "colab": {
   "collapsed_sections": [
    "u3HxcMZgz6iW"
   ],
   "provenance": []
  },
  "kernelspec": {
   "display_name": "Python 3",
   "language": "python",
   "name": "python3"
  },
  "language_info": {
   "codemirror_mode": {
    "name": "ipython",
    "version": 3
   },
   "file_extension": ".py",
   "mimetype": "text/x-python",
   "name": "python",
   "nbconvert_exporter": "python",
   "pygments_lexer": "ipython3",
   "version": "3.7.6"
  }
 },
 "nbformat": 4,
 "nbformat_minor": 1
}
